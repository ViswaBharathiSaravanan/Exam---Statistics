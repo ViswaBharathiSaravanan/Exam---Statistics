{
 "cells": [
  {
   "cell_type": "markdown",
   "id": "4d2a0f23",
   "metadata": {},
   "source": [
    "<H1>QUESTION 1<H1>"
   ]
  },
  {
   "cell_type": "markdown",
   "id": "ecd237d8",
   "metadata": {},
   "source": [
    "diamond=Probability of diamond card in first draw\n",
    "heart=Probability of heart card in second draw\n",
    "spade=Probability of spade card in third draw"
   ]
  },
  {
   "cell_type": "code",
   "execution_count": 7,
   "id": "91f07017",
   "metadata": {},
   "outputs": [
    {
     "name": "stdout",
     "output_type": "stream",
     "text": [
      "Total Probability is  0.01656862745098039\n"
     ]
    }
   ],
   "source": [
    "diamond=13/52\n",
    "heart=13/51\n",
    "spade=13/50\n",
    "\n",
    "print('Total Probability is ',diamond*heart*spade)"
   ]
  },
  {
   "cell_type": "markdown",
   "id": "40267e2d",
   "metadata": {},
   "source": [
    "<H1>QUESTION 2<H1>"
   ]
  },
  {
   "cell_type": "markdown",
   "id": "02572716",
   "metadata": {},
   "source": [
    "action=Probability of Action Movies\n",
    "comedy=Probability of Comedy Movies\n",
    "drama=Probability of Drama Movies\n",
    "horror=Probability of Horror Movies"
   ]
  },
  {
   "cell_type": "code",
   "execution_count": 4,
   "id": "a75f4381",
   "metadata": {},
   "outputs": [
    {
     "name": "stdout",
     "output_type": "stream",
     "text": [
      "Probability of action movie or drama movie is 0.78\n",
      "Probability of comedy movie or horror movie is 0.66\n"
     ]
    }
   ],
   "source": [
    "action=42/100\n",
    "comedy=54/100\n",
    "drama=36/100\n",
    "horror=12/100\n",
    "\n",
    "print('Probability of action movie or drama movie is',action+drama)\n",
    "print('Probability of comedy movie or horror movie is',comedy+horror)"
   ]
  },
  {
   "cell_type": "markdown",
   "id": "95e3102a",
   "metadata": {},
   "source": [
    "<H1>QUESTION 3<H1>"
   ]
  },
  {
   "cell_type": "markdown",
   "id": "039df359",
   "metadata": {},
   "source": [
    "BAG A\n",
    "Red balls = 3\n",
    "Black balls = 5\n",
    "\n",
    "BAG B\n",
    "White balls = 4\n",
    "Black balls = 7\n",
    "\n",
    "P(A)=Probability of ball from bag A\n",
    "P(B)=Probability of ball from bag B\n",
    "P(b)=Probability of black ball\n",
    "P(bA)=Probability of black ball from bag A\n",
    "P(bB)=Probability of black ball from bag B\n",
    "\n",
    "P(A)=1/2 ; P(B)=1/2\n",
    "P(bA)=5/8\n",
    "P(bB)=7/11\n",
    "\n",
    "Probability that the selected bag is B = (P(B)*P(bB)) / (P(A)*P(bA)+P(B)*P(bB))\n",
    "=((1/2)*(7/11)) / ((1/2)*(5/8)+(1/2)*(7/11))\n",
    "=(7/22)/((5/16)+(7/22))\n",
    "=(28/55)\n",
    "=0.504"
   ]
  },
  {
   "cell_type": "markdown",
   "id": "2b8a6c42",
   "metadata": {},
   "source": [
    "<H1>QUESTION 4<H1>"
   ]
  },
  {
   "cell_type": "markdown",
   "id": "2a4e9919",
   "metadata": {},
   "source": [
    "a) 10 Applications in 1 minute\n",
    "\n",
    "x=10 , λ=450/60=15/2\n",
    "\n",
    "P(X=x)=(e**(-15/2))*((15/2)**10) / 10!\n",
    "=0.0858"
   ]
  },
  {
   "cell_type": "markdown",
   "id": "ee095807",
   "metadata": {},
   "source": [
    "b) atleast 17 Applications in 2 minutes\n",
    "\n",
    "P(X=x)=(e**(-15/2))*((15/2)**17) / 17!\n",
    "=0.6321"
   ]
  },
  {
   "cell_type": "markdown",
   "id": "207058c9",
   "metadata": {},
   "source": [
    "<H1>QUESTION 5<H1>"
   ]
  },
  {
   "cell_type": "code",
   "execution_count": null,
   "id": "d2a45142",
   "metadata": {},
   "outputs": [],
   "source": []
  },
  {
   "cell_type": "markdown",
   "id": "27c8f7ba",
   "metadata": {},
   "source": [
    "<H1>QUESTION 6<H1>"
   ]
  },
  {
   "cell_type": "markdown",
   "id": "000d5747",
   "metadata": {},
   "source": [
    "z=(x-µ)/σ\n",
    "0.675=(x-350870)/12405\n",
    "x=50870+(0.675*12405)\n",
    "x=359237.0453\n",
    "percentile 75=359237.0453"
   ]
  },
  {
   "cell_type": "markdown",
   "id": "b3f3a366",
   "metadata": {},
   "source": [
    "<H1>QUESTION 7<H1>"
   ]
  },
  {
   "cell_type": "code",
   "execution_count": 8,
   "id": "6a4ea372",
   "metadata": {},
   "outputs": [
    {
     "name": "stdout",
     "output_type": "stream",
     "text": [
      "F-STATISTIC is  0.9921235138705414\n"
     ]
    }
   ],
   "source": [
    "Union_City=[44,21,36,34,77,32,29,39,92,67,45,37]\n",
    "Mountain_View=[47,81,41,79,38,20,33,83,41,40,69,36]\n",
    "import numpy as np\n",
    "A = np.array(Union_City)\n",
    "B = np.array(Mountain_View)\n",
    "Solution = np.var(A, ddof=1)/np.var(B, ddof=1)\n",
    "print(\"F-STATISTIC is \",Solution)"
   ]
  },
  {
   "cell_type": "markdown",
   "id": "e2a2f1f5",
   "metadata": {},
   "source": [
    "<H1>QUESTION 8<H1>"
   ]
  },
  {
   "cell_type": "code",
   "execution_count": null,
   "id": "aee0bcf7",
   "metadata": {},
   "outputs": [],
   "source": [
    "µ = 82\n",
    "µ = 95 , σ = 20\n",
    "α = 0.05\n",
    "\n"
   ]
  },
  {
   "cell_type": "markdown",
   "id": "1d761e7e",
   "metadata": {},
   "source": [
    "<H1>QUESTION 9<H1>"
   ]
  },
  {
   "cell_type": "code",
   "execution_count": 5,
   "id": "8d06dd2d",
   "metadata": {},
   "outputs": [
    {
     "name": "stdout",
     "output_type": "stream",
     "text": [
      "0.040177141568228006\n"
     ]
    }
   ],
   "source": [
    "from scipy.stats import poisson\n",
    "probability=poisson.pmf(k=80,mu=76)\n",
    "print(probability)"
   ]
  },
  {
   "cell_type": "markdown",
   "id": "2d6ad2bc",
   "metadata": {},
   "source": [
    "<H1>QUESTION 10<H1>"
   ]
  },
  {
   "cell_type": "code",
   "execution_count": null,
   "id": "30825667",
   "metadata": {},
   "outputs": [],
   "source": []
  },
  {
   "cell_type": "markdown",
   "id": "8d24b04e",
   "metadata": {},
   "source": [
    "<H1>QUESTION 11<H1>"
   ]
  },
  {
   "cell_type": "code",
   "execution_count": null,
   "id": "c79545b2",
   "metadata": {},
   "outputs": [],
   "source": []
  },
  {
   "cell_type": "markdown",
   "id": "f484cbaf",
   "metadata": {},
   "source": [
    "<H1>QUESTION 12<H1>"
   ]
  },
  {
   "cell_type": "code",
   "execution_count": null,
   "id": "735fa6f3",
   "metadata": {},
   "outputs": [],
   "source": []
  }
 ],
 "metadata": {
  "kernelspec": {
   "display_name": "Python 3 (ipykernel)",
   "language": "python",
   "name": "python3"
  },
  "language_info": {
   "codemirror_mode": {
    "name": "ipython",
    "version": 3
   },
   "file_extension": ".py",
   "mimetype": "text/x-python",
   "name": "python",
   "nbconvert_exporter": "python",
   "pygments_lexer": "ipython3",
   "version": "3.9.12"
  }
 },
 "nbformat": 4,
 "nbformat_minor": 5
}
